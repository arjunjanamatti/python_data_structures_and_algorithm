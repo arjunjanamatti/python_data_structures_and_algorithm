{
 "cells": [
  {
   "cell_type": "markdown",
   "metadata": {},
   "source": [
    "# Control flow\n",
    "\n",
    "* Need to vary computation steps as values change\n",
    "\n",
    "* Control flow - determines order in which statements are executed\n",
    "\n",
    "    * Conditional execution\n",
    "    \n",
    "    * Repeated execution - loops\n",
    "    \n",
    "    * Function definitions"
   ]
  },
  {
   "cell_type": "markdown",
   "metadata": {},
   "source": [
    "# Conditional execution"
   ]
  },
  {
   "cell_type": "markdown",
   "metadata": {},
   "source": [
    "* Second statement is executed only if the condition m%n != 0 is True\n",
    "\n",
    "* Indentation demarcates body of if - myst be uniform\n"
   ]
  },
  {
   "cell_type": "markdown",
   "metadata": {},
   "source": [
    "# shortcut for conditions\n",
    "\n",
    "* Numeric value 0 is treated as False\n",
    "\n",
    "* Empty sequence \"\", [] is treated as False\n",
    "\n",
    "* Everything else is True\n",
    "\n",
    "'if m % n != 0:' and 'if m % n:' both give same result"
   ]
  },
  {
   "cell_type": "markdown",
   "metadata": {},
   "source": [
    "# Multiway branching, elif:"
   ]
  },
  {
   "cell_type": "code",
   "execution_count": 1,
   "metadata": {},
   "outputs": [],
   "source": [
    "x = 0\n",
    "if x == 1:\n",
    "    y = 1*x(x)\n",
    "elif x == 2:\n",
    "    y = 2*(x)\n",
    "elif x == 3:\n",
    "    y = 3*(x)\n",
    "else:\n",
    "    y = 4 * x"
   ]
  },
  {
   "cell_type": "markdown",
   "metadata": {},
   "source": [
    "# Loops: repeated actions\n",
    "\n",
    "* Repeat something a fixed number of times"
   ]
  },
  {
   "cell_type": "code",
   "execution_count": 3,
   "metadata": {},
   "outputs": [],
   "source": [
    "z = 0\n",
    "for i in [1,2,3,4]:\n",
    "    y = y * i\n",
    "    z = z +1"
   ]
  },
  {
   "cell_type": "markdown",
   "metadata": {},
   "source": [
    "# Example\n",
    "\n",
    "* Find all factors of a number n\n",
    "\n",
    "* Factors must lie between 1 and n"
   ]
  },
  {
   "cell_type": "code",
   "execution_count": 8,
   "metadata": {},
   "outputs": [
    {
     "data": {
      "text/plain": [
       "[1, 2, 5, 10]"
      ]
     },
     "execution_count": 8,
     "metadata": {},
     "output_type": "execute_result"
    }
   ],
   "source": [
    "def list_factors(n):\n",
    "    list_of_factors = []\n",
    "    for i in range(1,n+1):\n",
    "        if n % i == 0:\n",
    "            list_of_factors.append(i)\n",
    "    return list_of_factors\n",
    "list_factors(10)"
   ]
  },
  {
   "cell_type": "markdown",
   "metadata": {},
   "source": [
    "# Loops based on a condition\n",
    "\n",
    "* Often we don't know number of repititions in advance\n",
    "\n",
    "    while condition:\n",
    "        ....\n",
    "\n",
    "* Execute body if condition evaluates to True\n",
    "\n",
    "* After each iteration, check condition again"
   ]
  },
  {
   "cell_type": "markdown",
   "metadata": {},
   "source": [
    "# Example\n",
    "\n",
    "* Euclid gcd algorithm using remainder\n",
    "\n",
    "* Update m,n till we find n to be a divisor of m"
   ]
  },
  {
   "cell_type": "code",
   "execution_count": 9,
   "metadata": {},
   "outputs": [],
   "source": [
    "def gcd(m,n):\n",
    "    a = max(m,n)\n",
    "    b = min(m,n)\n",
    "    while m%n != 0:\n",
    "        m,n = (n,m%n)\n",
    "    return n"
   ]
  },
  {
   "cell_type": "code",
   "execution_count": null,
   "metadata": {},
   "outputs": [],
   "source": []
  }
 ],
 "metadata": {
  "kernelspec": {
   "display_name": "Python 3",
   "language": "python",
   "name": "python3"
  },
  "language_info": {
   "codemirror_mode": {
    "name": "ipython",
    "version": 3
   },
   "file_extension": ".py",
   "mimetype": "text/x-python",
   "name": "python",
   "nbconvert_exporter": "python",
   "pygments_lexer": "ipython3",
   "version": "3.7.6"
  }
 },
 "nbformat": 4,
 "nbformat_minor": 4
}
