{
 "cells": [
  {
   "cell_type": "markdown",
   "metadata": {},
   "source": [
    "# Sorting\n",
    "\n",
    "* Searching for a value\n",
    "\n",
    "    * Unsorted array - linear scan, O(n)\n",
    "    \n",
    "    * Sorted array - binary search, O(log n)\n",
    "    \n",
    "* Other advantages of sorting\n",
    "\n",
    "    * Finding median value: midpoint of sorted list\n",
    "    \n",
    "    * Checking for duplicates\n",
    "    \n",
    "    * Building a frequence table of values"
   ]
  },
  {
   "cell_type": "markdown",
   "metadata": {},
   "source": [
    "# How to sort?\n",
    "\n",
    "* You are a Teaching Assistant for a course\n",
    "\n",
    "* The instructor gives you a stack of exam answer papers with marks, ordered randomly.\n",
    "\n",
    "* Your taks is to arrange them in descending order"
   ]
  },
  {
   "cell_type": "markdown",
   "metadata": {},
   "source": [
    "# Strategy 1\n",
    "\n",
    "* Scan the entire stack and find the paper with minimum marks\n",
    "\n",
    "* Move this paper to a new stack\n",
    "\n",
    "* Repeat with remaining papers\n",
    "\n",
    "    * Each time, add next minimum mark paper on top of new stack\n",
    "    \n",
    "* Eventually, new stack is sorted in descending order\n",
    "\n",
    "* Suppose these are the marks on the papers\n",
    "    \n",
    "    * 74 32 89 55 21 64\n",
    "    \n",
    "* New sequence in descending order will be\n",
    "\n",
    "    * 21 32 55 64 74 89\n",
    "    \n",
    "## Selection Sort\n",
    "\n",
    "* The above method is a selection sort method\n",
    "\n",
    "* Select the next element in sorted order\n",
    "\n",
    "* Move it into its correct place in the final sorted list\n",
    "\n",
    "* Avoid using a second list\n",
    "\n",
    "    * Swap minimum element with value in first position\n",
    "    \n",
    "    * Swap second minimum element to second position"
   ]
  },
  {
   "cell_type": "code",
   "execution_count": 46,
   "metadata": {},
   "outputs": [
    {
     "name": "stdout",
     "output_type": "stream",
     "text": [
      "[21, 32, 55, 64, 74, 89]\n"
     ]
    }
   ],
   "source": [
    "#  Selection sort algorithm tutor method\n",
    "\n",
    "list = [74,32,89,55,21,64]\n",
    "\n",
    "def SelectionSort(list):\n",
    "#     scan slices list[0:len(list)], list[1;len(list)],...\n",
    "    for start in range(len(list)):\n",
    "        \n",
    "        minpos = start\n",
    "        for i in range(start, len(list)):\n",
    "            if list[i] < list[minpos]:\n",
    "                minpos = i\n",
    "                \n",
    "        (list[start],list[minpos]) = (list[minpos], list[start])\n",
    "    print(list)\n",
    "        \n",
    "SelectionSort(list)        "
   ]
  },
  {
   "cell_type": "code",
   "execution_count": 48,
   "metadata": {},
   "outputs": [
    {
     "name": "stdout",
     "output_type": "stream",
     "text": [
      "[89, 74, 64, 55, 32, 21]\n"
     ]
    }
   ],
   "source": [
    "# my own method\n",
    "def selection_sort(list):\n",
    "    for i in range(len(list)):\n",
    "        for m in range(i,len(list)):\n",
    "            min = list[i]\n",
    "            if min < list[m]:\n",
    "                (list[i],list[m]) = (list[m],list[i])\n",
    "    print(list)\n",
    "selection_sort(list)"
   ]
  },
  {
   "cell_type": "markdown",
   "metadata": {},
   "source": [
    "# Analysis of Selection Sort\n",
    "\n",
    "* Finding minimum in unsorted segment of length k requires one scan , k steps\n",
    "\n",
    "* In each iteration, segment to be scanned reduces by 1\n",
    "\n",
    "* T(n) = n + (n-1) + (n-2) + ... + 1 = n(n+1)/2 = O(n**2)"
   ]
  },
  {
   "cell_type": "code",
   "execution_count": null,
   "metadata": {},
   "outputs": [],
   "source": []
  }
 ],
 "metadata": {
  "kernelspec": {
   "display_name": "Python 3",
   "language": "python",
   "name": "python3"
  },
  "language_info": {
   "codemirror_mode": {
    "name": "ipython",
    "version": 3
   },
   "file_extension": ".py",
   "mimetype": "text/x-python",
   "name": "python",
   "nbconvert_exporter": "python",
   "pygments_lexer": "ipython3",
   "version": "3.7.6"
  }
 },
 "nbformat": 4,
 "nbformat_minor": 4
}
