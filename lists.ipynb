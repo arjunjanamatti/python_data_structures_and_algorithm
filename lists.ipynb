{
 "cells": [
  {
   "cell_type": "markdown",
   "metadata": {},
   "source": [
    "# Lists\n",
    "\n",
    "    * Sequence of values\n",
    "        \n",
    "        factors = [1,3,5]\n",
    "        \n",
    "        names = [\"a\", \"b\", \"c\"]\n",
    "        \n",
    "    * Type need not be uniform\n",
    "        \n",
    "        mixed = [5, True, \"c\"]\n",
    "    \n",
    "    * Extract values by position, slice like strings\n",
    "        \n",
    "        factors[2] = 5, mixed[0:2] is [5.True]\n",
    "        \n",
    "    * Length is given by len()\n",
    "        \n",
    "        len(names) is 3"
   ]
  },
  {
   "cell_type": "markdown",
   "metadata": {},
   "source": [
    "# Lists and strings\n",
    "\n",
    "    * For str, both a single position and a slice return strings\n",
    "        \n",
    "        h = \"hello\"\n",
    "        h[0] = h[0:1] = \"h\"\n",
    "        \n",
    "    * For lists, a single position returns a value, a slice returns a list\n",
    "    \n",
    "        factors = [1,2,3,4,5]\n",
    "        \n",
    "        factors[0] = 1, factors[0:1] = [1]"
   ]
  },
  {
   "cell_type": "markdown",
   "metadata": {},
   "source": [
    "# Nested lists\n",
    "\n",
    "    * Lists can contain other lists\n",
    "    \n",
    "        nested = [[2,[37]],4,[\"hello\"]]\n",
    "        \n",
    "        nested[0] is [2,[37]]\n",
    "        \n",
    "        nested[0][1] is [37]\n",
    "        \n",
    "        nested[1] is 4\n",
    "        \n",
    "        nested[2] is \"hello\""
   ]
  },
  {
   "cell_type": "markdown",
   "metadata": {},
   "source": [
    "# Updating lists\n",
    "\n",
    "    * Unlike strings, lists can be updated in place\n",
    "    \n",
    "        nested = [[2,[37]],4,[\"hello\"]]\n",
    "        \n",
    "        nested[1] = 7\n",
    "        \n",
    "        nested = [[2,[37]],7,[\"hello\"]]\n",
    "        \n",
    "    * Lists are mutable, unlike strings"
   ]
  },
  {
   "cell_type": "markdown",
   "metadata": {},
   "source": [
    "# Mutable vs Immutable\n",
    "\n",
    "    * What happens when we assign names?\n",
    "    \n",
    "        x = 5\n",
    "        \n",
    "        y = x\n",
    "        \n",
    "        x = 7\n",
    "        \n",
    "    * Has the y value changed ? \n",
    "        \n",
    "        * No, why should it?\n",
    "        \n",
    "        * does assignment copy the value or make both names point to the same value ?\n",
    "        \n",
    "    * for immutable values, we can assume that assignment makes a fresh copy of a value\n",
    "    \n",
    "        * Values of type int, float, bool, str are immutable\n",
    "        \n",
    "    * Updating one value does not affect the copy\n",
    "    \n",
    "    * for mutable values, assignment does not make a fresh copy\n",
    "    \n",
    "        list1 = [1,3,5,7]\n",
    "        \n",
    "        list2 = list1\n",
    "        \n",
    "        list1[2] = 4\n",
    "        \n",
    "    * what is list2[2] now?\n",
    "    \n",
    "        * list[2] is also 4\n",
    "        \n",
    "    * list1 and list2 are two names for the same list"
   ]
  },
  {
   "cell_type": "markdown",
   "metadata": {},
   "source": [
    "# Copying lists\n",
    "\n",
    "    * How can we make a copy of a list?\n",
    "    \n",
    "    * A slide creates a new sub(list) from an old one\n",
    "    \n",
    "    * Recall l[:k] is l0:k], l[k:] is l[k:len(l)]\n",
    "    \n",
    "    * Omitting both end points gives a full slice\n",
    "        \n",
    "        l[:] = l[0:len(l)]\n",
    "        \n",
    "    * To make a copy of a list use a full slice\n",
    "    \n",
    "        list2 = list1[:]"
   ]
  },
  {
   "cell_type": "markdown",
   "metadata": {},
   "source": [
    "# Digression on equality\n",
    "\n",
    "    * Consider the following assignments\n",
    "        \n",
    "        list1 = [1,3,5,7]\n",
    "        \n",
    "        list2 = [1,3,5,7]\n",
    "        \n",
    "        list2 = list3\n",
    "        \n",
    "    * All three lists are equal, but there is a difference\n",
    "    \n",
    "        * list1 and list2 are two lists with same value\n",
    "        \n",
    "        * list2 and list3 are two names for same list\n",
    "        \n",
    "    * x == y checks if x and y have same value\n",
    "    \n",
    "    * x is y checks if x and y refer to same object\n",
    "    \n",
    "        list1 == list2 is True\n",
    "        list2 == list3 is True\n",
    "        \n",
    "        list2 is list3 is True\n",
    "        list1 is list2 is False"
   ]
  },
  {
   "cell_type": "markdown",
   "metadata": {},
   "source": [
    "# Concatenation\n",
    "\n",
    "    * Like strings, lists can be glued together using +\n",
    "    \n",
    "        list1 = [1,3,5,7]\n",
    "        \n",
    "        list2 = [2,4,6,8]\n",
    "        \n",
    "        list3 = list1 + list2\n",
    "        \n",
    "    * Now list3 = [1,3,5,7,2,4,6,8]\n",
    "    \n",
    "    * Note that + always produces a new list\n",
    "    \n",
    "        list1 = [1.3.5.7]\n",
    "        \n",
    "        list2 = list1\n",
    "        \n",
    "        list1 = list 1 + [9]\n",
    "        \n",
    "    * list1 and list2 no longer point to the same object\n",
    "        "
   ]
  },
  {
   "cell_type": "code",
   "execution_count": 7,
   "metadata": {},
   "outputs": [
    {
     "name": "stdout",
     "output_type": "stream",
     "text": [
      "List3:  [1, 3, 5, 7, 2, 4, 6, 8]\n",
      "\n",
      "List1:  [1, 3, 5, 7, 9]\n",
      "\n",
      "List2:  [1, 3, 5, 7]\n"
     ]
    }
   ],
   "source": [
    "list1 = [1,3,5,7]\n",
    "\n",
    "list2 = [2,4,6,8]\n",
    "\n",
    "list3 = list1 + list2\n",
    "\n",
    "print(\"List3: \", list3)\n",
    "print()\n",
    "\n",
    "list2 = list1\n",
    "\n",
    "list1 = list1 + [9]\n",
    "\n",
    "print(\"List1: \", list1)\n",
    "\n",
    "print()\n",
    "\n",
    "print(\"List2: \", list2)"
   ]
  },
  {
   "cell_type": "markdown",
   "metadata": {},
   "source": [
    "# Summary\n",
    "\n",
    "    * Lists are sequence of values\n",
    "    \n",
    "        * Values "
   ]
  }
 ],
 "metadata": {
  "kernelspec": {
   "display_name": "Python 3",
   "language": "python",
   "name": "python3"
  },
  "language_info": {
   "codemirror_mode": {
    "name": "ipython",
    "version": 3
   },
   "file_extension": ".py",
   "mimetype": "text/x-python",
   "name": "python",
   "nbconvert_exporter": "python",
   "pygments_lexer": "ipython3",
   "version": "3.7.6"
  }
 },
 "nbformat": 4,
 "nbformat_minor": 4
}
