{
 "cells": [
  {
   "cell_type": "code",
   "execution_count": 5,
   "metadata": {
    "ExecuteTime": {
     "end_time": "2020-02-27T11:22:06.278014Z",
     "start_time": "2020-02-27T11:22:06.265157Z"
    }
   },
   "outputs": [],
   "source": [
    "# first improvement in algorithm\n",
    "def calculate_gcd(m,n):\n",
    "    list_for_divisor_of_m = []\n",
    "    list_for_divisor_of_n = []\n",
    "    for i in range(max(m+1,n+1)):\n",
    "        if m%(i+1) == 0:\n",
    "            list_for_divisor_of_m.append(i+1) \n",
    "        if n%(i+1) == 0:\n",
    "            list_for_divisor_of_n.append(i+1)\n",
    "    for i in range(len(list_for_divisor_of_m)):\n",
    "        for j in range(len(list_for_divisor_of_n)):\n",
    "            if list_for_divisor_of_m[i] == list_for_divisor_of_n[j]:\n",
    "                gcd = list_for_divisor_of_m[i]\n",
    "    return gcd"
   ]
  },
  {
   "cell_type": "code",
   "execution_count": 6,
   "metadata": {
    "ExecuteTime": {
     "end_time": "2020-02-27T11:22:06.979699Z",
     "start_time": "2020-02-27T11:22:06.967831Z"
    }
   },
   "outputs": [
    {
     "data": {
      "text/plain": [
       "7"
      ]
     },
     "execution_count": 6,
     "metadata": {},
     "output_type": "execute_result"
    }
   ],
   "source": [
    "calculate_gcd(14,63)"
   ]
  },
  {
   "cell_type": "code",
   "execution_count": 39,
   "metadata": {
    "ExecuteTime": {
     "end_time": "2020-02-27T11:56:47.600964Z",
     "start_time": "2020-02-27T11:56:47.585322Z"
    }
   },
   "outputs": [],
   "source": [
    "# second improvement in algorithm\n",
    "def calculate_gcd_1(m,n):\n",
    "    common_divisors_of_m_and_n = []\n",
    "    for i in range(max(m+1,n+1)):\n",
    "        if (m%(i+1))==0 and (n%(i+1)) == 0:\n",
    "            common_divisors_of_m_and_n.append(i+1) \n",
    "    return common_divisors_of_m_and_n[-1]"
   ]
  },
  {
   "cell_type": "code",
   "execution_count": 43,
   "metadata": {
    "ExecuteTime": {
     "end_time": "2020-02-27T11:57:01.466968Z",
     "start_time": "2020-02-27T11:57:01.451406Z"
    }
   },
   "outputs": [
    {
     "data": {
      "text/plain": [
       "10"
      ]
     },
     "execution_count": 43,
     "metadata": {},
     "output_type": "execute_result"
    }
   ],
   "source": [
    "calculate_gcd_1(10,20)"
   ]
  },
  {
   "cell_type": "code",
   "execution_count": 44,
   "metadata": {
    "ExecuteTime": {
     "end_time": "2020-02-27T11:57:07.281147Z",
     "start_time": "2020-02-27T11:57:07.265918Z"
    }
   },
   "outputs": [],
   "source": [
    "# third improvement in algorithm\n",
    "def calculate_gcd_2(m,n):\n",
    "    common_divisors_of_m_and_n = []\n",
    "    for i in range(min(m+1,n+1)):\n",
    "        if (m%(i+1))==0 and (n%(i+1)) == 0:\n",
    "            common_divisors_of_m_and_n.append(i+1) \n",
    "    return common_divisors_of_m_and_n[-1]"
   ]
  },
  {
   "cell_type": "code",
   "execution_count": 45,
   "metadata": {
    "ExecuteTime": {
     "end_time": "2020-02-27T11:57:13.376854Z",
     "start_time": "2020-02-27T11:57:13.361153Z"
    }
   },
   "outputs": [
    {
     "data": {
      "text/plain": [
       "10"
      ]
     },
     "execution_count": 45,
     "metadata": {},
     "output_type": "execute_result"
    }
   ],
   "source": [
    "calculate_gcd_2(10,20)"
   ]
  },
  {
   "cell_type": "code",
   "execution_count": 47,
   "metadata": {
    "ExecuteTime": {
     "end_time": "2020-02-27T12:41:57.259264Z",
     "start_time": "2020-02-27T12:41:57.243728Z"
    }
   },
   "outputs": [],
   "source": [
    "def calculate_gcd_3(m,n):\n",
    "    gcd = \"\"\n",
    "    for i in range(min(m+1,n+1)):\n",
    "        if (m%(i+1))==0 and (n%(i+1)) == 0:\n",
    "            gcd = i+1 \n",
    "    return gcd"
   ]
  },
  {
   "cell_type": "code",
   "execution_count": 51,
   "metadata": {
    "ExecuteTime": {
     "end_time": "2020-02-27T12:42:20.134566Z",
     "start_time": "2020-02-27T12:42:20.118914Z"
    }
   },
   "outputs": [
    {
     "data": {
      "text/plain": [
       "7"
      ]
     },
     "execution_count": 51,
     "metadata": {},
     "output_type": "execute_result"
    }
   ],
   "source": [
    "calculate_gcd_3(14,63)"
   ]
  },
  {
   "cell_type": "markdown",
   "metadata": {},
   "source": [
    "# Scan Backwards\n",
    "* To find the largest common factor, start at the end and work backwards\n",
    "* Let \"i\" run from min(m,n) to 1\n",
    "* First common factor that we find will be the gcd!"
   ]
  },
  {
   "cell_type": "code",
   "execution_count": 2,
   "metadata": {
    "ExecuteTime": {
     "end_time": "2020-03-04T07:38:39.798321Z",
     "start_time": "2020-03-04T07:38:39.767407Z"
    }
   },
   "outputs": [
    {
     "data": {
      "text/plain": [
       "7"
      ]
     },
     "execution_count": 2,
     "metadata": {},
     "output_type": "execute_result"
    }
   ],
   "source": [
    "# fourth improvement in algorithm\n",
    "def calculate_gcd_4(m,n):    \n",
    "    for i in range(min(m+1,n+1),1,-1):\n",
    "        if (m%i)==0 and (n%i)==0:\n",
    "            gcd = i\n",
    "            pass\n",
    "    return gcd\n",
    "calculate_gcd_4(14,63)"
   ]
  },
  {
   "cell_type": "code",
   "execution_count": 3,
   "metadata": {
    "ExecuteTime": {
     "end_time": "2020-03-04T08:32:34.575355Z",
     "start_time": "2020-03-04T08:32:34.553199Z"
    }
   },
   "outputs": [
    {
     "data": {
      "text/plain": [
       "7"
      ]
     },
     "execution_count": 3,
     "metadata": {},
     "output_type": "execute_result"
    }
   ],
   "source": [
    "# fourth improvement in algorithm alternative\n",
    "def calculate_gcd_4_alternative(m,n):    \n",
    "    i = min(m,n)\n",
    "    while i > 0:\n",
    "        if (m%i)==0 and (n%i)==0:\n",
    "            return i\n",
    "        else:\n",
    "            i = i - 1\n",
    "\n",
    "calculate_gcd_4_alternative(14,63)"
   ]
  },
  {
   "cell_type": "markdown",
   "metadata": {},
   "source": [
    "# A new kind of repetition\n",
    "\n",
    "    while condition:\n",
    "        step 1\n",
    "        step 2\n",
    "        . . .\n",
    "        step k\n",
    "* Do not know in advance how many times we will repeat the steps\n",
    "* Should be careful to ensure the loop terminates-eventually the condition should become false!"
   ]
  },
  {
   "cell_type": "markdown",
   "metadata": {},
   "source": [
    "# Summary\n",
    "\n",
    "* With a little thought, we have dramatically simplified our naive algorithm\n",
    "\n",
    "* Though the newer versions are simpler, they still take time proportional to the values \"m\" and \"n\"\n",
    "\n",
    "* A much more effecient approach is possible\n"
   ]
  },
  {
   "cell_type": "code",
   "execution_count": null,
   "metadata": {},
   "outputs": [],
   "source": []
  }
 ],
 "metadata": {
  "kernelspec": {
   "display_name": "Python 3",
   "language": "python",
   "name": "python3"
  },
  "language_info": {
   "codemirror_mode": {
    "name": "ipython",
    "version": 3
   },
   "file_extension": ".py",
   "mimetype": "text/x-python",
   "name": "python",
   "nbconvert_exporter": "python",
   "pygments_lexer": "ipython3",
   "version": "3.7.6"
  },
  "varInspector": {
   "cols": {
    "lenName": 16,
    "lenType": 16,
    "lenVar": 40
   },
   "kernels_config": {
    "python": {
     "delete_cmd_postfix": "",
     "delete_cmd_prefix": "del ",
     "library": "var_list.py",
     "varRefreshCmd": "print(var_dic_list())"
    },
    "r": {
     "delete_cmd_postfix": ") ",
     "delete_cmd_prefix": "rm(",
     "library": "var_list.r",
     "varRefreshCmd": "cat(var_dic_list()) "
    }
   },
   "types_to_exclude": [
    "module",
    "function",
    "builtin_function_or_method",
    "instance",
    "_Feature"
   ],
   "window_display": false
  }
 },
 "nbformat": 4,
 "nbformat_minor": 2
}
