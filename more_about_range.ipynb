{
 "cells": [
  {
   "cell_type": "markdown",
   "metadata": {},
   "source": [
    "# More about range()\n",
    "\n",
    "* range(i,j) produces the sequence i, i+1,...,j-1\n",
    "\n",
    "* range(j) automatically starts from 0; 0,1,....,j-1\n",
    "\n",
    "* range(i,j,k) increments by k: i, i+k, ...., i+nk\n",
    "    \n",
    "    * stops with n such that i + nk < j <= i + (n+1)k\n",
    "    \n",
    "* Count down? make k negative!\n",
    "\n",
    "    * range(i,j,-1), i < j, produces i, i - 1,...,j+1 \n",
    "    \n",
    "* General rule for range(i,j,k)\n",
    "    \n",
    "    * sequence starts from i and gets as close to j as possible without crossing j\n",
    "    \n",
    "* If k is positive and i => j, empty sequence\n",
    "\n",
    "    * Similarly if k is negative and i <= j\n",
    "    \n",
    "* If k is negative, stop \"before\" j\n",
    "\n",
    "    * range(12,1,-3) produces 12,9,6,3"
   ]
  },
  {
   "cell_type": "markdown",
   "metadata": {},
   "source": [
    "* why does range(i,j) stop at j-1?\n",
    "\n",
    "    * Mainly to make it easier to process lists\n",
    "    \n",
    "    * List of length n has positions 0,1,...,n-1\n",
    "    \n",
    "    * range(0,len(l)) produces correct range of valid indices\n",
    "    \n",
    "        * Easier than writing range(0, len(l)-1)"
   ]
  },
  {
   "cell_type": "markdown",
   "metadata": {},
   "source": [
    "# range() and lists\n",
    "\n",
    "* compare the following\n",
    "\n",
    "    * for i in [0,1,2,3,4,5,6,7,8,9]\n",
    "    \n",
    "    * for i in range(0,10):\n",
    "    \n",
    "* is range(0,10) == [0,1,2,3,4,5,6,7,8,9]?\n",
    "\n",
    "    * In Python3, above result is no\n",
    "    \n",
    "    * In Python2, above result is yes\n",
    "    \n",
    "* Can convert range() to a list using list()\n",
    "\n",
    "    * list(range(0,5)) == [0,1,2,3,4]"
   ]
  },
  {
   "cell_type": "code",
   "execution_count": 2,
   "metadata": {},
   "outputs": [
    {
     "data": {
      "text/plain": [
       "[0, 1, 2, 3, 4]"
      ]
     },
     "execution_count": 2,
     "metadata": {},
     "output_type": "execute_result"
    }
   ],
   "source": [
    "# below is type conversion\n",
    "\n",
    "a = list(range(0,5))\n",
    "a"
   ]
  },
  {
   "cell_type": "markdown",
   "metadata": {},
   "source": [
    "* Other type conversion functions using type names"
   ]
  },
  {
   "cell_type": "code",
   "execution_count": 3,
   "metadata": {},
   "outputs": [
    {
     "data": {
      "text/plain": [
       "'78'"
      ]
     },
     "execution_count": 3,
     "metadata": {},
     "output_type": "execute_result"
    }
   ],
   "source": [
    "str(78)"
   ]
  },
  {
   "cell_type": "code",
   "execution_count": 4,
   "metadata": {},
   "outputs": [
    {
     "data": {
      "text/plain": [
       "123"
      ]
     },
     "execution_count": 4,
     "metadata": {},
     "output_type": "execute_result"
    }
   ],
   "source": [
    "int(\"123\")"
   ]
  },
  {
   "cell_type": "markdown",
   "metadata": {},
   "source": [
    "* But int(\"12arjun\") yields a error"
   ]
  },
  {
   "cell_type": "code",
   "execution_count": null,
   "metadata": {},
   "outputs": [],
   "source": []
  }
 ],
 "metadata": {
  "kernelspec": {
   "display_name": "Python 3",
   "language": "python",
   "name": "python3"
  },
  "language_info": {
   "codemirror_mode": {
    "name": "ipython",
    "version": 3
   },
   "file_extension": ".py",
   "mimetype": "text/x-python",
   "name": "python",
   "nbconvert_exporter": "python",
   "pygments_lexer": "ipython3",
   "version": "3.7.6"
  }
 },
 "nbformat": 4,
 "nbformat_minor": 4
}
