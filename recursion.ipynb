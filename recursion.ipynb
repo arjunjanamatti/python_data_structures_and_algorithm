{
 "cells": [
  {
   "cell_type": "markdown",
   "metadata": {},
   "source": [
    "# Inductive definitions\n",
    "\n",
    "Many arithematic functions are naturally defined inductively\n",
    "\n",
    "* Factorial\n",
    "    * 0! = 1\n",
    "    * n! = n x (n-1)!\n",
    "    \n",
    "* Multiplication - repeated addition\n",
    "    * m x 1 = m\n",
    "    * m x (n+1) = m + (m x n)\n",
    "    \n",
    "* Define one ore more base cases\n",
    "\n",
    "* INductive step defines f(n) in terms of smaller arguments"
   ]
  },
  {
   "cell_type": "markdown",
   "metadata": {},
   "source": [
    "# Recursive computation\n",
    "\n",
    "* Inductive definitions naturally give rise to recursive programs\n"
   ]
  },
  {
   "cell_type": "code",
   "execution_count": 1,
   "metadata": {},
   "outputs": [],
   "source": [
    "def factorial(n):\n",
    "    if n == 0:\n",
    "        return 1\n",
    "    else:\n",
    "        return n * factorial(n-1)"
   ]
  },
  {
   "cell_type": "code",
   "execution_count": 3,
   "metadata": {},
   "outputs": [
    {
     "data": {
      "text/plain": [
       "120"
      ]
     },
     "execution_count": 3,
     "metadata": {},
     "output_type": "execute_result"
    }
   ],
   "source": [
    "factorial(5)"
   ]
  },
  {
   "cell_type": "code",
   "execution_count": 4,
   "metadata": {},
   "outputs": [],
   "source": [
    "def multiply(m,n):\n",
    "    if n == 1:\n",
    "        return m\n",
    "    else:\n",
    "        return m + multiply(m,n-1)"
   ]
  },
  {
   "cell_type": "code",
   "execution_count": 5,
   "metadata": {},
   "outputs": [
    {
     "data": {
      "text/plain": [
       "20"
      ]
     },
     "execution_count": 5,
     "metadata": {},
     "output_type": "execute_result"
    }
   ],
   "source": [
    "multiply(10,2)"
   ]
  },
  {
   "cell_type": "markdown",
   "metadata": {},
   "source": [
    "# Inductive definitions for lists\n",
    "\n",
    "* Lists can be decomposed as\n",
    "    * First(or last) element\n",
    "    * Remaining list with one less element\n",
    "    \n",
    "* Define list functions inductively\n",
    "    * Base case: empty list or list of size 1\n",
    "    * Inductive step: f(l) in terms of smaller sublists of l"
   ]
  },
  {
   "cell_type": "code",
   "execution_count": 7,
   "metadata": {},
   "outputs": [],
   "source": [
    "def length(l):\n",
    "    if l == []:\n",
    "        return 0\n",
    "    else:\n",
    "        return (1 + length(l[1:]))"
   ]
  },
  {
   "cell_type": "code",
   "execution_count": 9,
   "metadata": {},
   "outputs": [
    {
     "data": {
      "text/plain": [
       "10"
      ]
     },
     "execution_count": 9,
     "metadata": {},
     "output_type": "execute_result"
    }
   ],
   "source": [
    "list_1 = list(range(10))\n",
    "length(list_1)"
   ]
  },
  {
   "cell_type": "code",
   "execution_count": 10,
   "metadata": {},
   "outputs": [],
   "source": [
    "def sumlist(l):\n",
    "    if l == []:\n",
    "        return 0\n",
    "    else:\n",
    "        return(l[0] + sumlist(l[1:]))"
   ]
  },
  {
   "cell_type": "code",
   "execution_count": 11,
   "metadata": {},
   "outputs": [
    {
     "data": {
      "text/plain": [
       "45"
      ]
     },
     "execution_count": 11,
     "metadata": {},
     "output_type": "execute_result"
    }
   ],
   "source": [
    "sumlist(list_1)"
   ]
  },
  {
   "cell_type": "markdown",
   "metadata": {},
   "source": [
    "# Recursive insertion sort\n",
    "\n",
    "* Base case: if list has lenght 1 or 0, return the list\n",
    "\n",
    "* Inductive step:\n",
    "    * Inductively sort slice l[0:len(l) - 1]\n",
    "    * Insert l[len(l)] into this sorted slice"
   ]
  },
  {
   "cell_type": "code",
   "execution_count": null,
   "metadata": {},
   "outputs": [],
   "source": [
    "def insertion_sort(seq):\n",
    "    issort(seq, k-1)\n",
    "    "
   ]
  }
 ],
 "metadata": {
  "kernelspec": {
   "display_name": "Python 3",
   "language": "python",
   "name": "python3"
  },
  "language_info": {
   "codemirror_mode": {
    "name": "ipython",
    "version": 3
   },
   "file_extension": ".py",
   "mimetype": "text/x-python",
   "name": "python",
   "nbconvert_exporter": "python",
   "pygments_lexer": "ipython3",
   "version": "3.7.6"
  }
 },
 "nbformat": 4,
 "nbformat_minor": 4
}
