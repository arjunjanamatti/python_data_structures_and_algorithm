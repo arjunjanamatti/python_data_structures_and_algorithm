{
 "cells": [
  {
   "cell_type": "markdown",
   "metadata": {},
   "source": [
    "Agorithm: how to systematically perform a task\n",
    "## Computing gcd(m,n)\n",
    "    List out the factors of m\n",
    "    List out the factors of n\n",
    "    Report the largest number that appears on both lists\n",
    "    Is this a valid algorithm?\n",
    "        Finite presentation of the \"recipe\"\n",
    "        Terminates after a finite number of steps\n",
    "        "
   ]
  },
  {
   "cell_type": "code",
   "execution_count": 7,
   "metadata": {
    "ExecuteTime": {
     "end_time": "2020-02-27T10:02:21.488479Z",
     "start_time": "2020-02-27T10:02:21.479319Z"
    }
   },
   "outputs": [],
   "source": [
    "\n",
    "def list_all_factors(m):\n",
    "    list_for_divisor_of_m = []\n",
    "    for i in range(m+1):\n",
    "        if m%(i+1) == 0:\n",
    "            list_for_divisor_of_m.append(i+1)\n",
    "    return list_for_divisor_of_m"
   ]
  },
  {
   "cell_type": "code",
   "execution_count": 10,
   "metadata": {
    "ExecuteTime": {
     "end_time": "2020-02-27T10:04:05.424598Z",
     "start_time": "2020-02-27T10:04:05.403632Z"
    }
   },
   "outputs": [
    {
     "data": {
      "text/plain": [
       "[1, 2, 4, 8]"
      ]
     },
     "execution_count": 10,
     "metadata": {},
     "output_type": "execute_result"
    }
   ],
   "source": [
    "factors_of_m = list_all_factors(12)\n",
    "factors_of_n = list_all_factors(8)"
   ]
  },
  {
   "cell_type": "code",
   "execution_count": 12,
   "metadata": {
    "ExecuteTime": {
     "end_time": "2020-02-27T10:07:01.722338Z",
     "start_time": "2020-02-27T10:07:01.696258Z"
    }
   },
   "outputs": [
    {
     "name": "stdout",
     "output_type": "stream",
     "text": [
      "4\n"
     ]
    }
   ],
   "source": [
    "gcd = \"\"\n",
    "for i in range(len(factors_of_m)):\n",
    "    for j in range(len(factors_of_n)):\n",
    "        if factors_of_m[i] == factors_of_n[j]:\n",
    "            gcd = factors_of_m[i]\n",
    "print(gcd)\n",
    "            "
   ]
  },
  {
   "cell_type": "code",
   "execution_count": 19,
   "metadata": {
    "ExecuteTime": {
     "end_time": "2020-02-27T11:20:28.608212Z",
     "start_time": "2020-02-27T11:20:28.581668Z"
    }
   },
   "outputs": [],
   "source": [
    "def gcd_of_two_numbers(m,n):\n",
    "    list_for_divisor_of_m = []\n",
    "    for i in range(m+1):\n",
    "        if m%(i+1) == 0:\n",
    "            list_for_divisor_of_m.append(i+1)\n",
    "    list_for_divisor_of_n = []\n",
    "    for i in range(n+1):\n",
    "        if n%(i+1) == 0:\n",
    "            list_for_divisor_of_n.append(i+1)\n",
    "    for i in range(len(list_for_divisor_of_m)):\n",
    "        for j in range(len(list_for_divisor_of_n)):\n",
    "            if list_for_divisor_of_m[i] == list_for_divisor_of_n[j]:\n",
    "                gcd = list_for_divisor_of_m[i]\n",
    "    return gcd"
   ]
  },
  {
   "cell_type": "code",
   "execution_count": 20,
   "metadata": {
    "ExecuteTime": {
     "end_time": "2020-02-27T11:20:29.872111Z",
     "start_time": "2020-02-27T11:20:29.860958Z"
    }
   },
   "outputs": [
    {
     "data": {
      "text/plain": [
       "7"
      ]
     },
     "execution_count": 20,
     "metadata": {},
     "output_type": "execute_result"
    }
   ],
   "source": [
    "gcd_of_two_numbers(14,63)"
   ]
  },
  {
   "cell_type": "code",
   "execution_count": null,
   "metadata": {},
   "outputs": [],
   "source": []
  }
 ],
 "metadata": {
  "kernelspec": {
   "display_name": "Python 3",
   "language": "python",
   "name": "python3"
  },
  "language_info": {
   "codemirror_mode": {
    "name": "ipython",
    "version": 3
   },
   "file_extension": ".py",
   "mimetype": "text/x-python",
   "name": "python",
   "nbconvert_exporter": "python",
   "pygments_lexer": "ipython3",
   "version": "3.7.4"
  },
  "varInspector": {
   "cols": {
    "lenName": 16,
    "lenType": 16,
    "lenVar": 40
   },
   "kernels_config": {
    "python": {
     "delete_cmd_postfix": "",
     "delete_cmd_prefix": "del ",
     "library": "var_list.py",
     "varRefreshCmd": "print(var_dic_list())"
    },
    "r": {
     "delete_cmd_postfix": ") ",
     "delete_cmd_prefix": "rm(",
     "library": "var_list.r",
     "varRefreshCmd": "cat(var_dic_list()) "
    }
   },
   "types_to_exclude": [
    "module",
    "function",
    "builtin_function_or_method",
    "instance",
    "_Feature"
   ],
   "window_display": false
  }
 },
 "nbformat": 4,
 "nbformat_minor": 2
}
