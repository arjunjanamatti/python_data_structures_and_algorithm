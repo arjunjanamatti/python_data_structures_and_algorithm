{
 "cells": [
  {
   "cell_type": "markdown",
   "metadata": {},
   "source": [
    "# Algorithm for gcd(m,n)\n",
    "\n",
    "* To find the largest common factor, start at the end and work backwards\n",
    "\n",
    "* Let \"i\" run from min(m,n) to 1\n",
    "\n",
    "* First common factor that we find will be the gcd!"
   ]
  },
  {
   "cell_type": "code",
   "execution_count": 27,
   "metadata": {
    "ExecuteTime": {
     "end_time": "2020-03-04T11:55:42.940106Z",
     "start_time": "2020-03-04T11:55:42.924584Z"
    }
   },
   "outputs": [
    {
     "data": {
      "text/plain": [
       "126"
      ]
     },
     "execution_count": 27,
     "metadata": {},
     "output_type": "execute_result"
    }
   ],
   "source": [
    "# below is just a try to calculate the lcm\n",
    "def lcm_calculator(m,n):\n",
    "    i = max(m,n)\n",
    "    while i < (m*n)+1:\n",
    "        if (i%m) == 0 and (i%n) == 0:\n",
    "            return i\n",
    "        else:\n",
    "            i = i + 1\n",
    "#     i = m*n\n",
    "#     for j in range(i,max(m,n)-1,-1):\n",
    "#         if (j%m) == 0 and (j%n) == 0:\n",
    "#             lcm = j\n",
    "#     return lcm\n",
    "lcm_calculator(14,63)"
   ]
  },
  {
   "cell_type": "markdown",
   "metadata": {},
   "source": [
    "# Euclid's algorithm\n",
    "\n",
    "    * Suppose \"d\" devides both \"m\" and \"n\", and m > n\n",
    "    * Then m = ad, n = bd\n",
    "    * So m - n = ad - bd = (a-b)d\n",
    "    * \"d\" devides \"m-n\" as well!\n",
    "    * So gcd(m,n) = gcd(n,m-n)\n",
    "    \n",
    "    * Consider gcd(m,n) with m > n\n",
    "    * If \"n\" divides \"m\", return n\n",
    "    * Otherwise, compute gcd(n,m-n) and return that value"
   ]
  },
  {
   "cell_type": "code",
   "execution_count": 10,
   "metadata": {
    "ExecuteTime": {
     "end_time": "2020-03-05T06:52:13.050506Z",
     "start_time": "2020-03-05T06:52:13.034856Z"
    }
   },
   "outputs": [
    {
     "data": {
      "text/plain": [
       "1"
      ]
     },
     "execution_count": 10,
     "metadata": {},
     "output_type": "execute_result"
    }
   ],
   "source": [
    "# this is my version of code\n",
    "def gcd_eudlid_try(m,n):\n",
    "    a = max(m,n)\n",
    "    b = min(m,n)\n",
    "    if a%b==0:\n",
    "        return b\n",
    "    else:\n",
    "        i = max(b,a-b)\n",
    "        while i > 0:\n",
    "            if (b%i == 0) and ((a-b)%i==0):\n",
    "                return i\n",
    "            else:\n",
    "                i = i -1\n",
    "gcd_eudlid_try(101,2)        "
   ]
  },
  {
   "cell_type": "code",
   "execution_count": 9,
   "metadata": {
    "ExecuteTime": {
     "end_time": "2020-03-05T07:40:51.086989Z",
     "start_time": "2020-03-05T07:40:51.055938Z"
    }
   },
   "outputs": [
    {
     "data": {
      "text/plain": [
       "1"
      ]
     },
     "execution_count": 9,
     "metadata": {},
     "output_type": "execute_result"
    }
   ],
   "source": [
    "#  tutor version\n",
    "def gcd_euclid_tutor(m,n):\n",
    "# assume m>=n\n",
    "    if m < n:\n",
    "        (m,n) = (n,m)\n",
    "    if (m%n) == 0:\n",
    "        return n\n",
    "    else:\n",
    "        diff = m - n\n",
    "#         diff > n? possible!\n",
    "        return (gcd_euclid_tutor(max(n,diff),min(n,diff)))\n",
    "gcd_euclid_tutor(23,31)"
   ]
  },
  {
   "cell_type": "code",
   "execution_count": 11,
   "metadata": {
    "ExecuteTime": {
     "end_time": "2020-03-05T07:36:39.840743Z",
     "start_time": "2020-03-05T07:36:39.825202Z"
    }
   },
   "outputs": [
    {
     "data": {
      "text/plain": [
       "1"
      ]
     },
     "execution_count": 11,
     "metadata": {},
     "output_type": "execute_result"
    }
   ],
   "source": [
    "# tutor version_1\n",
    "def gcd_euclid_tutor_1(m,n):\n",
    "    if m < n:\n",
    "        (m,n) = (n,m)\n",
    "    while (m%n) != 0:\n",
    "        diff = m - n\n",
    "        (m,n) = (max(n,diff),min(n,diff))\n",
    "    return n\n",
    "gcd_euclid_tutor_1(101,2)"
   ]
  },
  {
   "cell_type": "code",
   "execution_count": 88,
   "metadata": {
    "ExecuteTime": {
     "end_time": "2020-03-05T07:41:49.192646Z",
     "start_time": "2020-03-05T07:41:49.177076Z"
    }
   },
   "outputs": [
    {
     "data": {
      "text/plain": [
       "6"
      ]
     },
     "execution_count": 88,
     "metadata": {},
     "output_type": "execute_result"
    }
   ],
   "source": [
    "# even better version trial by myself\n",
    "\n",
    "def gcd_trial_euclid_2(m,n):\n",
    "    a = max(m,n)\n",
    "    b = min(m,n)\n",
    "    while ((a%b) != 0):\n",
    "        a = a - b\n",
    "    return a\n",
    "#     (m,n) = (max(n,diff),min(n,diff))\n",
    "gcd_trial(36,15)"
   ]
  },
  {
   "cell_type": "markdown",
   "metadata": {},
   "source": [
    "# Even Better\n",
    "\n",
    "    * Suppose n does not devide m\n",
    "    * Then, m = qn + r, \n",
    "        where,\n",
    "        q is the quotient, \n",
    "        r is the remainder when we divide m by n\n",
    "    * Assume d divides both m and n\n",
    "    * Then m = ad, n = bd\n",
    "    * So ad = q(bd) + r\n",
    "    * It follows that r = cd, so d divides r as well"
   ]
  },
  {
   "cell_type": "markdown",
   "metadata": {},
   "source": [
    "# Euclid's algorithm\n",
    "\n",
    "    * Consider gcd(m,n) with m > n\n",
    "    * If n divides m, return n\n",
    "    * Otherwise, let r = m%n\n",
    "    * return gcd(n,r)"
   ]
  },
  {
   "cell_type": "code",
   "execution_count": 16,
   "metadata": {},
   "outputs": [
    {
     "data": {
      "text/plain": [
       "1"
      ]
     },
     "execution_count": 16,
     "metadata": {},
     "output_type": "execute_result"
    }
   ],
   "source": [
    "# my version trial of algorithm\n",
    "\n",
    "def gcd_remainder(m,n):\n",
    "    a = max(m,n)\n",
    "    b = min(m,n)\n",
    "    if a % b == 0:\n",
    "        return b\n",
    "    else :\n",
    "        return gcd_remainder(b, a%b)\n",
    "gcd_remainder(2,101)"
   ]
  },
  {
   "cell_type": "code",
   "execution_count": 17,
   "metadata": {},
   "outputs": [
    {
     "data": {
      "text/plain": [
       "1"
      ]
     },
     "execution_count": 17,
     "metadata": {},
     "output_type": "execute_result"
    }
   ],
   "source": [
    "# tutor version_0\n",
    "\n",
    "def gcd_remainder_1(m,n):\n",
    "    if m < n:\n",
    "        (m,n) = (n,m)\n",
    "    \n",
    "    if m%n == 0:\n",
    "        return n\n",
    "    else:\n",
    "        return gcd_remainder_1(n,m%n)\n",
    "gcd_remainder_1(2,101)"
   ]
  },
  {
   "cell_type": "code",
   "execution_count": 19,
   "metadata": {},
   "outputs": [
    {
     "data": {
      "text/plain": [
       "5"
      ]
     },
     "execution_count": 19,
     "metadata": {},
     "output_type": "execute_result"
    }
   ],
   "source": [
    "# tutor version_1\n",
    "\n",
    "def gcd_remainder_2(m,n):\n",
    "    if m < n:\n",
    "        (m,n) = (n,m)\n",
    "    \n",
    "    while m % n != 0:\n",
    "        (m,n) = (n, m%n)\n",
    "    \n",
    "    return n\n",
    "gcd_remainder_2(8,12)"
   ]
  },
  {
   "cell_type": "code",
   "execution_count": null,
   "metadata": {},
   "outputs": [],
   "source": []
  }
 ],
 "metadata": {
  "kernelspec": {
   "display_name": "Python 3",
   "language": "python",
   "name": "python3"
  },
  "language_info": {
   "codemirror_mode": {
    "name": "ipython",
    "version": 3
   },
   "file_extension": ".py",
   "mimetype": "text/x-python",
   "name": "python",
   "nbconvert_exporter": "python",
   "pygments_lexer": "ipython3",
   "version": "3.7.6"
  },
  "varInspector": {
   "cols": {
    "lenName": 16,
    "lenType": 16,
    "lenVar": 40
   },
   "kernels_config": {
    "python": {
     "delete_cmd_postfix": "",
     "delete_cmd_prefix": "del ",
     "library": "var_list.py",
     "varRefreshCmd": "print(var_dic_list())"
    },
    "r": {
     "delete_cmd_postfix": ") ",
     "delete_cmd_prefix": "rm(",
     "library": "var_list.r",
     "varRefreshCmd": "cat(var_dic_list()) "
    }
   },
   "types_to_exclude": [
    "module",
    "function",
    "builtin_function_or_method",
    "instance",
    "_Feature"
   ],
   "window_display": false
  }
 },
 "nbformat": 4,
 "nbformat_minor": 2
}
