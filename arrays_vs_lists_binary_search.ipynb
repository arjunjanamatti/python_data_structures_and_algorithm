{
 "cells": [
  {
   "cell_type": "markdown",
   "metadata": {},
   "source": [
    "# Sequence of values\n",
    "\n",
    "* two basic ways of storing a sequence of values\n",
    "    \n",
    "    * Arrays\n",
    "    \n",
    "    * Lists\n",
    "    \n",
    "* What is the difference?\n"
   ]
  },
  {
   "cell_type": "markdown",
   "metadata": {},
   "source": [
    "# Arrays\n",
    "\n",
    "* Single block of memory, elements of uniform type\n",
    "\n",
    "    * Typically size of sequence is fixed in advance\n",
    "    \n",
    "* Indexing is fast\n",
    "\n",
    "    * Access seq[i] in constant time for any i\n",
    "    \n",
    "    * Compute offset from start of memory block\n",
    "    \n",
    "* Inserting between seq[i] and seq[i+1] is expensive\n",
    "\n",
    "* Contraction is expensive"
   ]
  },
  {
   "cell_type": "markdown",
   "metadata": {},
   "source": [
    "# Lists\n",
    "\n",
    "* Values scattered in memory\n",
    "\n",
    "    * Each element points to the next - \"linked\" list\n",
    "    \n",
    "    * flexible size\n",
    "    \n",
    "* Follow i links to access seq[i]\n",
    "\n",
    "    * Cost proportional to i\n",
    "    \n",
    "* Inserting or deleting an element is easy\n",
    "\n",
    "    * \"Plumbing\"\n",
    "    "
   ]
  },
  {
   "cell_type": "markdown",
   "metadata": {},
   "source": [
    "# Operations\n",
    "\n",
    "* Excahnge seq[i] and seq[j]\n",
    "\n",
    "    * Constant time in array, linear time in lists\n",
    "    \n",
    "* Delete seq[i] or insert v after seq[i]\n",
    "    \n",
    "    * Constant time in lists (if we are already at seq[i])\n",
    "    \n",
    "    * Linear time in array\n",
    "    \n",
    "* Algorithm on one data structure may not transfer to another\n",
    "\n",
    "    * Example: Binary search"
   ]
  },
  {
   "cell_type": "markdown",
   "metadata": {},
   "source": [
    "# Search problem\n",
    "\n",
    "* Is a value v present in a collection seq?\n",
    "\n",
    "* Does the structure of seq matter?\n",
    "\n",
    "    * Array vs list\n",
    "    \n",
    "* Does the organization of the information matter?\n",
    "\n",
    "    * Values sorted/unsorted"
   ]
  },
  {
   "cell_type": "markdown",
   "metadata": {},
   "source": [
    "# The unsorted case"
   ]
  },
  {
   "cell_type": "code",
   "execution_count": 1,
   "metadata": {},
   "outputs": [],
   "source": [
    "def search(seq,v):\n",
    "    for x in seq:\n",
    "        if x == v:\n",
    "            return True\n",
    "        return False"
   ]
  },
  {
   "cell_type": "markdown",
   "metadata": {},
   "source": [
    "# Worst case\n",
    "\n",
    "* Need to scan the entire sequence seq\n",
    "\n",
    "    * time proportional to length of sequence\n",
    "    \n",
    "* Does not matter if seq is array or list"
   ]
  },
  {
   "cell_type": "markdown",
   "metadata": {},
   "source": [
    "# Search a sorted sequence\n",
    "\n",
    "* What is the seq is sorted?\n",
    "\n",
    "    * Compare v with the midpoint of seq\n",
    "    \n",
    "    * If midpoint is v, the value is found\n",
    "    \n",
    "    * If v < midpoint, search left half of seq\n",
    "    \n",
    "    * If v > midpoint, search right half of seq\n",
    "    \n",
    "* Binary search"
   ]
  },
  {
   "cell_type": "code",
   "execution_count": 3,
   "metadata": {},
   "outputs": [],
   "source": [
    "def bsearch(seq,v,l,r):\n",
    "#     search for v in the seq[l:r], seq is sorted\n",
    "    if (r - l == 0):\n",
    "        return False\n",
    "    mid = (l+r) // 2\n",
    "    \n",
    "    if (v == seq[mid]):\n",
    "        return True\n",
    "    if (v < seq[mid]):\n",
    "        return (bsearch(seq,v,l,mid))\n",
    "    else:\n",
    "        return bsearch(seq,v,mid+l,r)"
   ]
  },
  {
   "cell_type": "markdown",
   "metadata": {},
   "source": [
    "# Binary search\n",
    "\n",
    "* How long does this take ?\n",
    "\n",
    "    * Each step halves the interval to search\n",
    "    \n",
    "    * For an interval of size 0, the answer is immediate\n",
    "    \n",
    "* T(n): time to search in an array of size n\n",
    "\n",
    "    * T(0) = 1\n",
    "    \n",
    "    * T(n) = 1 + T(n/2)\n",
    "    \n",
    "* unwinding the recurrence\n",
    "\n",
    "    * T(n) = 1 + T(n/2) = 1 + 1 + T(n/2**2) = ...\n",
    "           = 1 + 1 + ... + 1 + T(n/2**k)\n",
    "           = 1 + 1 + ....+ 1 + T(n/2**log n) = O(logn)\n",
    "           \n",
    "* works only for arrays\n",
    "\n",
    "    * Need to look up seq[i] in constant time\n",
    "    \n",
    "* By seeing only a small fraction of the sequence, we can conclude that an element is not present!\n",
    "        "
   ]
  },
  {
   "cell_type": "markdown",
   "metadata": {},
   "source": [
    "# Python lists\n",
    "\n",
    "* Are built in lists in Python lists or arrays?\n",
    "\n",
    "* Documentation suggests they are lists\n",
    "\n",
    "    * Allow effecient expansion, contraction\n",
    "    \n",
    "* However, positional indexing allows us to treat them as arrays\n",
    "\n",
    "    * In this course, we will \"pretend\" they are arrays\n",
    "    \n",
    "    * Will later see explicit implementation of lists"
   ]
  },
  {
   "cell_type": "code",
   "execution_count": null,
   "metadata": {},
   "outputs": [],
   "source": []
  }
 ],
 "metadata": {
  "kernelspec": {
   "display_name": "Python 3",
   "language": "python",
   "name": "python3"
  },
  "language_info": {
   "codemirror_mode": {
    "name": "ipython",
    "version": 3
   },
   "file_extension": ".py",
   "mimetype": "text/x-python",
   "name": "python",
   "nbconvert_exporter": "python",
   "pygments_lexer": "ipython3",
   "version": "3.7.6"
  }
 },
 "nbformat": 4,
 "nbformat_minor": 4
}
