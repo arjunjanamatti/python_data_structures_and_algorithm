{
 "cells": [
  {
   "cell_type": "markdown",
   "metadata": {},
   "source": [
    "# A typical Python program\n",
    "\n",
    "def function_1():                          \n",
    "\n",
    "    ....\n",
    "\n",
    "statement_1\n",
    "\n",
    "    * Intepreter executes statements from top to bottom\n",
    "    \n",
    "    * Function definitions are \"digested\" for future use\n",
    "    \n",
    "    * Actual computation starts from statement_1"
   ]
  },
  {
   "cell_type": "markdown",
   "metadata": {},
   "source": [
    "# A more messy program\n",
    "\n",
    "statement_1\n",
    "\n",
    "def function_1():                          \n",
    "\n",
    "    ....\n",
    "statement_2\n",
    "\n",
    "def function_2():                          \n",
    "\n",
    "    ....\n",
    "\n",
    "    * Python allows free mixing of function definitions and statements\n",
    "    \n",
    "    * But programs written like this are likely to be harder to understand and debug"
   ]
  },
  {
   "cell_type": "markdown",
   "metadata": {},
   "source": [
    "# Assignment statement\n",
    "\n",
    "    * Assing a value to a name\n",
    "        \n",
    "        i = 5\n",
    "        \n",
    "        j = 2*i\n",
    "        \n",
    "        j = j + 5\n",
    "    \n",
    "    * Left hand side is a name\n",
    "    \n",
    "    * Right hand side is an expression\n",
    "    \n",
    "        * Operations in expression depent on type of value"
   ]
  },
  {
   "cell_type": "markdown",
   "metadata": {},
   "source": [
    "# Numerical values\n",
    "\n",
    "    * Numbers come in two flavors\n",
    "    \n",
    "        * int - integers\n",
    "        \n",
    "        * float - fractional numbers\n",
    "        \n",
    "    * 178, -3 are values of type int\n",
    "    \n",
    "    * 37.82, 0.005, -0.053 are values of type float"
   ]
  },
  {
   "cell_type": "markdown",
   "metadata": {},
   "source": [
    "# int vs float\n",
    "\n",
    "    * Why are these different types?\n",
    "    \n",
    "    * Internally a value is stored as a finite sequence of 0's and 1's (binary digits, or bits)\n",
    "    \n",
    "    * For an int, this sequence is read off as a binary number\n",
    "    \n",
    "    * For a float, this sequence breaks up into a mantissa and exponent\n",
    "        \n",
    "        * like \"scientific\" notation: 0.5 x 10^5"
   ]
  },
  {
   "cell_type": "markdown",
   "metadata": {},
   "source": [
    "# Operations on numbers\n",
    "\n",
    "    * Normal arithematic operations: +,-,*,/\n",
    "        \n",
    "        * Note that / always produces a float\n",
    "        \n",
    "        * 7/3.5 is 2.0, 7/2 is 3.5\n",
    "        \n",
    "    * Quotient and remainder: // and %\n",
    "    \n",
    "        * 9//5 is 1, 9%5 is 4\n",
    "        \n",
    "    * Exponentiation: **\n",
    "    \n",
    "        3**2 = 9"
   ]
  },
  {
   "cell_type": "markdown",
   "metadata": {},
   "source": [
    "# Other operations on numbers\n",
    "\n",
    "    * log(), sqrt(), sin(),...\n",
    "    \n",
    "    * Built in to Python, but not available by default\n",
    "    \n",
    "    * Must include math \"library\"\n",
    "        \n",
    "        * from math import *"
   ]
  },
  {
   "cell_type": "markdown",
   "metadata": {},
   "source": [
    "# Names, values and types\n",
    "\n",
    "    * Values have types\n",
    "        \n",
    "        * Type determines what operations are legal\n",
    "        \n",
    "    * Names inherit their type from their current value\n",
    "    \n",
    "        * Type of a name is not fixed\n",
    "        \n",
    "        * Unlike languages like C, C++, Java where each name is \"declared\" in advance with its type\n",
    "    \n",
    "    * Names can be assigned values of different types as the program evolves\n",
    "    \n",
    "        i = 3      # i is int\n",
    "        \n",
    "        i = 7*i    # i is still int\n",
    "        \n",
    "        j = i/3    # j is float, / creates float\n",
    "        \n",
    "        ....\n",
    "        \n",
    "        i = 2*j    # i is now a float\n",
    "        \n",
    "    * type(i) returns the type of expressino i\n",
    "    \n",
    "    * Not good style to assign values of mixed types of same name!\n",
    "    "
   ]
  },
  {
   "cell_type": "markdown",
   "metadata": {},
   "source": [
    "# Boolean values: bool\n",
    "\n",
    "    * True, False\n",
    "    \n",
    "    * Logical operatos: not, and, or\n",
    "    \n",
    "        * not True is False, not False is True\n",
    "        \n",
    "        * x and y is True if both of x,y is True\n",
    "        \n",
    "        * x or y is True if at least one of x,y is True"
   ]
  },
  {
   "cell_type": "markdown",
   "metadata": {},
   "source": [
    "# Comparisons\n",
    "\n",
    "    * x == y, a != b\n",
    "      \n",
    "      z < 5,5, n > m,\n",
    "      \n",
    "      i <= j + k, 19 >= 44 * d\n",
    "      \n",
    "      \n",
    "    * Combine using logical operators\n",
    "    \n",
    "        * n > 0 and m%n == 0\n",
    "        \n",
    "    * Assign a boolean expression to a name\n",
    "    \n",
    "        * divisor = (m%n == 0)"
   ]
  },
  {
   "cell_type": "markdown",
   "metadata": {},
   "source": [
    "# Example"
   ]
  },
  {
   "cell_type": "code",
   "execution_count": 3,
   "metadata": {},
   "outputs": [
    {
     "data": {
      "text/plain": [
       "False"
      ]
     },
     "execution_count": 3,
     "metadata": {},
     "output_type": "execute_result"
    }
   ],
   "source": [
    "def divides(m,n):\n",
    "    if n%m == 0:\n",
    "        return True\n",
    "    else:\n",
    "        return False\n",
    "\n",
    "def even(n):\n",
    "    return divides(2,n)\n",
    "\n",
    "def odd(n):\n",
    "    return not divides(2,n)\n",
    "\n",
    "divides(10,20)\n",
    "even(20)\n",
    "odd(20)"
   ]
  },
  {
   "cell_type": "markdown",
   "metadata": {},
   "source": [
    "# Summary \n",
    "\n",
    "    * Values have types\n",
    "    \n",
    "        * Determine what operations are allowed\n",
    "        \n",
    "    * Names inherit type from currently assigned value\n",
    "    \n",
    "        * Can assign values of different types to a name\n",
    "        \n",
    "    * int, float, bool"
   ]
  },
  {
   "cell_type": "code",
   "execution_count": null,
   "metadata": {},
   "outputs": [],
   "source": []
  }
 ],
 "metadata": {
  "kernelspec": {
   "display_name": "Python 3",
   "language": "python",
   "name": "python3"
  },
  "language_info": {
   "codemirror_mode": {
    "name": "ipython",
    "version": 3
   },
   "file_extension": ".py",
   "mimetype": "text/x-python",
   "name": "python",
   "nbconvert_exporter": "python",
   "pygments_lexer": "ipython3",
   "version": "3.7.6"
  }
 },
 "nbformat": 4,
 "nbformat_minor": 4
}
