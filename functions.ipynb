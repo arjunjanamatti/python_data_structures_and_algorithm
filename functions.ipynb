{
 "cells": [
  {
   "cell_type": "markdown",
   "metadata": {},
   "source": [
    "# Function definition"
   ]
  },
  {
   "cell_type": "code",
   "execution_count": 1,
   "metadata": {},
   "outputs": [],
   "source": [
    "def function_is(a,b,c):\n",
    "    a*1\n",
    "    b*2\n",
    "    c*3\n",
    "    return [a,b,c]"
   ]
  },
  {
   "cell_type": "markdown",
   "metadata": {},
   "source": [
    "# Passing values to functions\n",
    "\n",
    "* Argument value is substituted for name"
   ]
  },
  {
   "cell_type": "code",
   "execution_count": 2,
   "metadata": {},
   "outputs": [],
   "source": [
    "def power(x,n):\n",
    "    ans = 1\n",
    "    for i in range(0,n):\n",
    "        ans = ans * x\n",
    "    return ans"
   ]
  },
  {
   "cell_type": "code",
   "execution_count": 3,
   "metadata": {},
   "outputs": [
    {
     "data": {
      "text/plain": [
       "243"
      ]
     },
     "execution_count": 3,
     "metadata": {},
     "output_type": "execute_result"
    }
   ],
   "source": [
    "power(3,5)"
   ]
  },
  {
   "cell_type": "markdown",
   "metadata": {},
   "source": [
    "# Passing values ...\n",
    "\n",
    "* Same rules apply for mutable, immutable values\n",
    "\n",
    "    * Immutable value will not be affected at calling point\n",
    "    \n",
    "    * Mutable values will be affected\n",
    "    "
   ]
  },
  {
   "cell_type": "code",
   "execution_count": 30,
   "metadata": {},
   "outputs": [],
   "source": [
    "def update(l,i,v):\n",
    "    if i>=0 and i < len(l):\n",
    "        l[i] = v\n",
    "        return True\n",
    "    else:\n",
    "        v = v *10\n",
    "        print(\"inside else\")\n",
    "        return False\n"
   ]
  },
  {
   "cell_type": "code",
   "execution_count": 31,
   "metadata": {},
   "outputs": [
    {
     "name": "stdout",
     "output_type": "stream",
     "text": [
      "[1, 2, 5]\n",
      "\n",
      "inside else\n",
      "5\n"
     ]
    }
   ],
   "source": [
    "ns = [1,2,3]\n",
    "z = 5\n",
    "update(ns,2,z)\n",
    "print(ns)\n",
    "print()\n",
    "update(ns,10,z)\n",
    "print(z)"
   ]
  },
  {
   "cell_type": "markdown",
   "metadata": {},
   "source": [
    "* Return value may be ignored\n",
    "\n",
    "* If there is no return (), function ends when last statement is reached"
   ]
  },
  {
   "cell_type": "markdown",
   "metadata": {},
   "source": [
    "# Scope of names\n",
    "\n",
    "* Names within a function have local scope\n",
    "\n",
    "* Name inside the function is seperate from outside"
   ]
  },
  {
   "cell_type": "code",
   "execution_count": 38,
   "metadata": {},
   "outputs": [
    {
     "data": {
      "text/plain": [
       "75"
      ]
     },
     "execution_count": 38,
     "metadata": {},
     "output_type": "execute_result"
    }
   ],
   "source": [
    "a = 5\n",
    "def trial(x):\n",
    "    a = 15 * x\n",
    "    return a\n",
    "f = trial(5)\n",
    "f"
   ]
  },
  {
   "cell_type": "markdown",
   "metadata": {},
   "source": [
    "# Defining functions\n",
    "\n",
    "* A function must be defined before it is invoked\n",
    "\n",
    "* This is ok"
   ]
  },
  {
   "cell_type": "markdown",
   "metadata": {},
   "source": [
    "# Recursive functions\n",
    "\n",
    "* a function can call itself - recursion"
   ]
  },
  {
   "cell_type": "code",
   "execution_count": 43,
   "metadata": {},
   "outputs": [],
   "source": [
    "def factorial_definition(n):\n",
    "    if n <= 0:\n",
    "        ans = 1\n",
    "    else:\n",
    "        ans = n * factorial_definition(n-1)\n",
    "        print(ans)\n",
    "    return ans"
   ]
  },
  {
   "cell_type": "code",
   "execution_count": 44,
   "metadata": {},
   "outputs": [
    {
     "name": "stdout",
     "output_type": "stream",
     "text": [
      "1\n",
      "2\n",
      "6\n",
      "24\n",
      "120\n"
     ]
    },
    {
     "data": {
      "text/plain": [
       "120"
      ]
     },
     "execution_count": 44,
     "metadata": {},
     "output_type": "execute_result"
    }
   ],
   "source": [
    "factorial_definition(5)"
   ]
  },
  {
   "cell_type": "markdown",
   "metadata": {},
   "source": [
    "# Summary\n",
    "\n",
    "* Functions are a good way to organize code in logical chunks\n",
    "\n",
    "* Passing arguments to a function is like assigning values to names\n",
    "\n",
    "    * Only mutable values can be updated\n",
    "    \n",
    "* Names in functions have local scope\n",
    "\n",
    "* Functions must be defined before use\n",
    "\n",
    "* Recursion - a function can call itself"
   ]
  },
  {
   "cell_type": "code",
   "execution_count": null,
   "metadata": {},
   "outputs": [],
   "source": []
  }
 ],
 "metadata": {
  "kernelspec": {
   "display_name": "Python 3",
   "language": "python",
   "name": "python3"
  },
  "language_info": {
   "codemirror_mode": {
    "name": "ipython",
    "version": 3
   },
   "file_extension": ".py",
   "mimetype": "text/x-python",
   "name": "python",
   "nbconvert_exporter": "python",
   "pygments_lexer": "ipython3",
   "version": "3.7.6"
  }
 },
 "nbformat": 4,
 "nbformat_minor": 4
}
