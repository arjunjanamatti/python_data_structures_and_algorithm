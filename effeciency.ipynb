{
 "cells": [
  {
   "cell_type": "markdown",
   "metadata": {},
   "source": [
    "# Effeciency\n",
    "\n",
    "* Measure time taken by an algorithm as a function T(n) with respect to input size n\n",
    "\n",
    "* Usually report worst case behavior\n",
    "\n",
    "    * Worst case for searching in a sequence is when value is not found\n",
    "    \n",
    "    * Worst case is easier to calculate than \"average\" case or other more reasonable measures\n",
    "    "
   ]
  },
  {
   "cell_type": "markdown",
   "metadata": {},
   "source": [
    "# O() notation\n",
    "\n",
    "* Interested in broad relationship between input size and running time\n",
    "\n",
    "* Is T(n) proportional to log n, n, n log n, n**2,... 2**n?\n",
    "\n",
    "* Write T(n) = O(n), T(n) = O(n log n),.... to indicate this\n",
    "\n",
    "    * Linear scan is O(n) for arrays and lists\n",
    "    \n",
    "    * Binary search is O(log n) for sorted arrays"
   ]
  },
  {
   "cell_type": "markdown",
   "metadata": {},
   "source": [
    "* Python can do about 10**7 steps in a second"
   ]
  },
  {
   "cell_type": "markdown",
   "metadata": {},
   "source": [
    "# Effeciency\n",
    "\n",
    "* Theoretically T(n) = O(n**k) is considered effecient\n",
    "\n",
    "    * Polynomial time\n",
    "    \n",
    "* In practise even T(n) = O(n**2) has very limited effective range\n",
    "\n",
    "    * Inputs larger than size 5000 take very long"
   ]
  },
  {
   "cell_type": "code",
   "execution_count": null,
   "metadata": {},
   "outputs": [],
   "source": []
  }
 ],
 "metadata": {
  "kernelspec": {
   "display_name": "Python 3",
   "language": "python",
   "name": "python3"
  },
  "language_info": {
   "codemirror_mode": {
    "name": "ipython",
    "version": 3
   },
   "file_extension": ".py",
   "mimetype": "text/x-python",
   "name": "python",
   "nbconvert_exporter": "python",
   "pygments_lexer": "ipython3",
   "version": "3.7.6"
  }
 },
 "nbformat": 4,
 "nbformat_minor": 4
}
