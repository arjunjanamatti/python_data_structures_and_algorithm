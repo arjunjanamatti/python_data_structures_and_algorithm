{
 "cells": [
  {
   "cell_type": "markdown",
   "metadata": {},
   "source": [
    "# Find all factors of a number n"
   ]
  },
  {
   "cell_type": "code",
   "execution_count": 3,
   "metadata": {},
   "outputs": [],
   "source": [
    "def factors_list(n):\n",
    "    list_of_factors = []\n",
    "    for i in range(n+1):\n",
    "        if n % (i+1) == 0:\n",
    "            list_of_factors.append(i+1)\n",
    "    return list_of_factors"
   ]
  },
  {
   "cell_type": "code",
   "execution_count": 5,
   "metadata": {},
   "outputs": [
    {
     "data": {
      "text/plain": [
       "[1, 2, 4, 5, 10, 20, 25, 50, 100]"
      ]
     },
     "execution_count": 5,
     "metadata": {},
     "output_type": "execute_result"
    }
   ],
   "source": [
    "factors_list(100)"
   ]
  },
  {
   "cell_type": "markdown",
   "metadata": {},
   "source": [
    "# Find if the number is prime"
   ]
  },
  {
   "cell_type": "code",
   "execution_count": 41,
   "metadata": {},
   "outputs": [],
   "source": [
    "def prime_test(n):\n",
    "    a = []\n",
    "    if n > 1:\n",
    "        for i in range (2,n):\n",
    "            if n%i == 0:\n",
    "                a.append(i)\n",
    "        if len(a) == 0:\n",
    "#             print(n, \" is a prime number\")\n",
    "            return True\n",
    "        elif len(a) != 0:\n",
    "#             print(n, \" is not a prime number\")\n",
    "            return False\n",
    "    else:\n",
    "        print(\"Number is less than or equal to 1\")\n",
    "#         return False"
   ]
  },
  {
   "cell_type": "code",
   "execution_count": 42,
   "metadata": {},
   "outputs": [
    {
     "data": {
      "text/plain": [
       "True"
      ]
     },
     "execution_count": 42,
     "metadata": {},
     "output_type": "execute_result"
    }
   ],
   "source": [
    "prime_test(11)"
   ]
  },
  {
   "cell_type": "markdown",
   "metadata": {},
   "source": [
    "# First n primes"
   ]
  },
  {
   "cell_type": "code",
   "execution_count": 44,
   "metadata": {},
   "outputs": [],
   "source": [
    "list_of_prime_numbers = []\n",
    "n = 100\n",
    "def first_n_prime(n):\n",
    "    for i in range(n+1):\n",
    "        if prime_test(i):\n",
    "            list_of_prime_numbers.append(i)\n",
    "    return list_of_prime_numbers"
   ]
  },
  {
   "cell_type": "code",
   "execution_count": 45,
   "metadata": {},
   "outputs": [
    {
     "name": "stdout",
     "output_type": "stream",
     "text": [
      "Number is less than or equal to 1\n",
      "Number is less than or equal to 1\n"
     ]
    },
    {
     "data": {
      "text/plain": [
       "[2,\n",
       " 3,\n",
       " 5,\n",
       " 7,\n",
       " 11,\n",
       " 13,\n",
       " 17,\n",
       " 19,\n",
       " 23,\n",
       " 29,\n",
       " 31,\n",
       " 37,\n",
       " 41,\n",
       " 43,\n",
       " 47,\n",
       " 53,\n",
       " 59,\n",
       " 61,\n",
       " 67,\n",
       " 71,\n",
       " 73,\n",
       " 79,\n",
       " 83,\n",
       " 89,\n",
       " 97]"
      ]
     },
     "execution_count": 45,
     "metadata": {},
     "output_type": "execute_result"
    }
   ],
   "source": [
    "first_n_prime(100)"
   ]
  },
  {
   "cell_type": "code",
   "execution_count": 46,
   "metadata": {},
   "outputs": [],
   "source": [
    "#  tutor solution\n",
    "\n",
    "def nprime(n):\n",
    "    (count,i,plist) = (0,1,[])\n",
    "    while (count < n):\n",
    "        if isprime(i):\n",
    "            (count,plist) = (count+1,plist+[i])\n",
    "        i = i + 1\n",
    "    return plist"
   ]
  },
  {
   "cell_type": "markdown",
   "metadata": {},
   "source": [
    "# for and while\n",
    "\n",
    "* Can use while to stimulate for\n",
    "\n",
    "* However, use for where it is natural\n",
    "    \n",
    "    * Makes for more readable code\n",
    "    \n",
    "* What makes a good program?\n",
    "\n",
    "    * Correctness and effeciency - algorithm\n",
    "    \n",
    "    * readability, ease of maintenance - style"
   ]
  },
  {
   "cell_type": "code",
   "execution_count": null,
   "metadata": {},
   "outputs": [],
   "source": []
  }
 ],
 "metadata": {
  "kernelspec": {
   "display_name": "Python 3",
   "language": "python",
   "name": "python3"
  },
  "language_info": {
   "codemirror_mode": {
    "name": "ipython",
    "version": 3
   },
   "file_extension": ".py",
   "mimetype": "text/x-python",
   "name": "python",
   "nbconvert_exporter": "python",
   "pygments_lexer": "ipython3",
   "version": "3.7.6"
  }
 },
 "nbformat": 4,
 "nbformat_minor": 4
}
