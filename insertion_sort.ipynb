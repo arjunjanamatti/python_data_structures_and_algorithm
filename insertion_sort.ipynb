{
 "cells": [
  {
   "cell_type": "markdown",
   "metadata": {},
   "source": [
    "# How to sort?\n",
    "\n",
    "* You are a Teaching assistant for a course\n",
    "\n",
    "* The instructor gives you a stack of exam answer papers with marks, ordered randomly\n",
    "\n",
    "* Your task is to arrange them in descending order"
   ]
  },
  {
   "cell_type": "markdown",
   "metadata": {},
   "source": [
    "# Strategy\n",
    "\n",
    "* First paper: put in a new stack\n",
    "\n",
    "* Second paper:\n",
    "\n",
    "    * Lower marks than first ?  Place below first paper\n",
    "    \n",
    "    * Higher marks than first ? Place above the first paper\n",
    "    \n",
    "* Third paper:\n",
    "\n",
    "    * Insert into the current position with respect to first two papers\n",
    "    \n",
    "* Do this for each subsequent paper:\n",
    "  insert into correct position in new sorted stack\n",
    "\n",
    "## Insertion Sort\n",
    "\n",
    "* Start building a sorted sequence with one element\n",
    "\n",
    "* Pick up next unsorted element and insert it into its correct place in the already sorted sequence"
   ]
  },
  {
   "cell_type": "code",
   "execution_count": 4,
   "metadata": {},
   "outputs": [
    {
     "name": "stdout",
     "output_type": "stream",
     "text": [
      "[89, 74, 64, 55, 32, 21]\n"
     ]
    }
   ],
   "source": [
    "# my own version\n",
    "\n",
    "list_1 = [74,32,89,55,21,64]\n",
    "list_2 = []\n",
    "def sorint_strategy(list_1,list_2):\n",
    "    for i in range(len(list_1)):\n",
    "        list_2.append(list_1[i])\n",
    "        for j in range(len(list_2)):\n",
    "            a = j\n",
    "            for k in range(a,len(list_2)):\n",
    "                if list_2[k] > list_2[j]:\n",
    "                    (list_2[k],list_2[j]) = (list_2[j],list_2[k])\n",
    "    print(list_2)  \n",
    "sorint_strategy(list_1,list_2)"
   ]
  },
  {
   "cell_type": "code",
   "execution_count": 6,
   "metadata": {},
   "outputs": [],
   "source": [
    "# tutor version\n",
    "\n",
    "def inserion_sort(seq):\n",
    "    for sliceEnd in range(len(seq)):\n",
    "#          Build longer and longer sorted slices\n",
    "#  in each iteration seq[0:sliceEnd] already sorted\n",
    "# move first element after sorted slice left\n",
    "# till it is in the correct place\n",
    "        pos = sliceEnd\n",
    "        while pos>0 and seq[pos] < seq[pos-1]:\n",
    "            (seq[pos],seq[pos-1]) = (seq[pos-1],seq[pos])\n",
    "            pos = pos - 1"
   ]
  },
  {
   "cell_type": "markdown",
   "metadata": {},
   "source": [
    "# Analysis of Insertion Sort\n",
    "\n",
    "* Inserting a new value in sorted segment of length k requires upto k steps in the worst case\n",
    "\n",
    "* In each iteration, sorted  segment in which to insert increased by 1\n",
    "\n",
    "* T(n) = 1 + 2 +....+ n-1 = n(n-1)/2 = O(n**2)"
   ]
  },
  {
   "cell_type": "code",
   "execution_count": null,
   "metadata": {},
   "outputs": [],
   "source": []
  }
 ],
 "metadata": {
  "kernelspec": {
   "display_name": "Python 3",
   "language": "python",
   "name": "python3"
  },
  "language_info": {
   "codemirror_mode": {
    "name": "ipython",
    "version": 3
   },
   "file_extension": ".py",
   "mimetype": "text/x-python",
   "name": "python",
   "nbconvert_exporter": "python",
   "pygments_lexer": "ipython3",
   "version": "3.7.6"
  }
 },
 "nbformat": 4,
 "nbformat_minor": 4
}
