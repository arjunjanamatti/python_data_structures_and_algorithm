{
 "cells": [
  {
   "cell_type": "markdown",
   "metadata": {},
   "source": [
    "# Names, values and types\n",
    "\n",
    "    * Values have types\n",
    "    \n",
    "        * Determine what operations are allowed\n",
    "    \n",
    "    *Names inherit type from currently assigned value\n",
    "    \n",
    "        * Can assign values of different types to a name\n",
    "    \n",
    "    * int. float, bool\n",
    "    \n",
    "    * +,-,*,/,... and, or, .... ==,!=,>=,..."
   ]
  },
  {
   "cell_type": "markdown",
   "metadata": {},
   "source": [
    "# Manipulating text\n",
    "\n",
    "    * Computation is a lot more than number crunching\n",
    "    \n",
    "    * Text processing is increasing important\n",
    "    \n",
    "        * Document preparation\n",
    "        \n",
    "        * Importing/exporting spreadsheet data\n",
    "        \n",
    "        * Matching search queries to content"
   ]
  },
  {
   "cell_type": "markdown",
   "metadata": {},
   "source": [
    "# Strings - type str\n",
    "\n",
    "    * Type string, str, a sequence of characters\n",
    "    \n",
    "        * A single character is a string of length 1\n",
    "        \n",
    "        * No seperate type char\n",
    "        \n",
    "    * Enclose in quotes - single, double, even triple!\n",
    "    \n",
    "    city = 'Chennai'\n",
    "    \n",
    "    title = \"Hitchhiker's guide to the galaxy\"\n",
    "    \n",
    "    dialogue = ''' He said his favourite book is \"Hitchhiker's guide to the galaxy\"'''"
   ]
  },
  {
   "cell_type": "markdown",
   "metadata": {},
   "source": [
    "# Strings as sequences\n",
    "\n",
    "    * String: sequence of list of characters\n",
    "    \n",
    "    * Position 0,1,2,...,n-1 for a string of length n\n",
    "    \n",
    "        * s = \"hello\"\n",
    "        \n",
    "    * Positions -1,-2,... count backwards from end\n",
    "        \n",
    "        * s[1] = \"e\"\n",
    "        \n",
    "        * s[-1] = \"o\""
   ]
  },
  {
   "cell_type": "markdown",
   "metadata": {},
   "source": [
    "# Operations on strings\n",
    "\n",
    "    * Combine two strings: concatenation, operator + \n",
    "    \n",
    "        * s = \"hello\"\n",
    "\n",
    "        * t = s + \",there\"\n",
    "\n",
    "        * t is now \"hello, there\"\n",
    "    \n",
    "    * len(s) returns length of s\n",
    "    \n",
    "    * Will see other functions to manipulate strings later"
   ]
  },
  {
   "cell_type": "markdown",
   "metadata": {},
   "source": [
    "# Extracting substrings\n",
    "\n",
    "    * A slice is a \"segment\" of a string\n",
    "    \n",
    "        * s = \"hellohowareyou\"\n",
    "        \n",
    "        * s [0:5], will give the output of \"hello\"\n",
    "        \n",
    "        * s[i:j] starts at s[0] and ends at s[j-1]\n",
    "        \n",
    "        * s[:j] ends ast s[0], so s[0:j]\n",
    "        \n",
    "        * s[i:] ends at s[len(s)-1], so s[i:len(s)]"
   ]
  },
  {
   "cell_type": "markdown",
   "metadata": {},
   "source": [
    "# Modifying strings\n",
    "\n",
    "    * Cannot update a string \"in place\"\n",
    "    \n",
    "        * s = \"hello\", want to change to \"help!\"\n",
    "        \n",
    "        * s[3] = \"p\" -- error!\n",
    "        \n",
    "    * Instead, use slices and concatenation\n",
    "    \n",
    "        * s = s[0:3] + \"p!\"\n",
    "        \n",
    "    * Strings are immutable values"
   ]
  },
  {
   "cell_type": "markdown",
   "metadata": {},
   "source": [
    "# Summary\n",
    "\n",
    "    * Text values - type str, sequence of characters\n",
    "        \n",
    "        * Single character is string of length 1\n",
    "    \n",
    "    * Extract individual characters by position\n",
    "    \n",
    "    * Slices extract substrings\n",
    "    \n",
    "    * + glues strings togehter\n",
    "    \n",
    "    * Cannot update strings directly - immutable"
   ]
  },
  {
   "cell_type": "code",
   "execution_count": null,
   "metadata": {},
   "outputs": [],
   "source": []
  }
 ],
 "metadata": {
  "kernelspec": {
   "display_name": "Python 3",
   "language": "python",
   "name": "python3"
  },
  "language_info": {
   "codemirror_mode": {
    "name": "ipython",
    "version": 3
   },
   "file_extension": ".py",
   "mimetype": "text/x-python",
   "name": "python",
   "nbconvert_exporter": "python",
   "pygments_lexer": "ipython3",
   "version": "3.7.6"
  }
 },
 "nbformat": 4,
 "nbformat_minor": 4
}
