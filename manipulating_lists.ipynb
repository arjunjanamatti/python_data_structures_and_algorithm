{
 "cells": [
  {
   "cell_type": "markdown",
   "metadata": {},
   "source": [
    "# Lists\n",
    "\n",
    "* Lists are mutable"
   ]
  },
  {
   "cell_type": "code",
   "execution_count": 4,
   "metadata": {},
   "outputs": [
    {
     "name": "stdout",
     "output_type": "stream",
     "text": [
      "List 1 before change:  [1, 3, 5, 6]\n",
      "\n",
      "List1 after change:  [1, 3, 7, 6]\n",
      "\n",
      "List2 also after change:  [1, 3, 7, 6]\n"
     ]
    }
   ],
   "source": [
    "list1 = [1,3,5,6]\n",
    "list2 = list1\n",
    "print(\"List 1 before change: \", list1)\n",
    "print()\n",
    "list1[2] = 7\n",
    "print(\"List1 after change: \", list1)\n",
    "print()\n",
    "print(\"List2 also after change: \", list2)"
   ]
  },
  {
   "cell_type": "markdown",
   "metadata": {},
   "source": [
    "* On the other hand"
   ]
  },
  {
   "cell_type": "code",
   "execution_count": 7,
   "metadata": {},
   "outputs": [
    {
     "name": "stdout",
     "output_type": "stream",
     "text": [
      "List1 after change:  [1, 3, 7, 6]\n",
      "\n",
      "List2 still remains same:  [1, 3, 5, 6]\n"
     ]
    }
   ],
   "source": [
    "list1 = [1,3,5,6]\n",
    "list2 = list1\n",
    "list1 = list1[0:2] + [7] + list1[3:]\n",
    "print(\"List1 after change: \", list1)\n",
    "print()\n",
    "print(\"List2 still remains same: \", list2)"
   ]
  },
  {
   "cell_type": "markdown",
   "metadata": {},
   "source": [
    "* Concatenation produces a new list\n",
    "\n",
    "* If we start re-assiging a list by using slicing and using plus, we will get a new list. This also applies when done inside a function"
   ]
  },
  {
   "cell_type": "markdown",
   "metadata": {},
   "source": [
    "# Extending a list\n",
    "\n",
    "* Adding an element to a list, in place"
   ]
  },
  {
   "cell_type": "code",
   "execution_count": 10,
   "metadata": {},
   "outputs": [
    {
     "name": "stdout",
     "output_type": "stream",
     "text": [
      "List1 after appending an element:  [1, 3, 5, 6, 12]\n",
      "\n",
      "List2 after appending an element to list1:  [1, 3, 5, 6, 12]\n"
     ]
    }
   ],
   "source": [
    "list1 = [1,3,5,6]\n",
    "list2 = list1\n",
    "list1.append(12)\n",
    "print(\"List1 after appending an element: \", list1)\n",
    "print()\n",
    "print(\"List2 after appending an element to list1: \", list2)"
   ]
  },
  {
   "cell_type": "markdown",
   "metadata": {},
   "source": [
    "* On the other hand"
   ]
  },
  {
   "cell_type": "code",
   "execution_count": 11,
   "metadata": {},
   "outputs": [
    {
     "name": "stdout",
     "output_type": "stream",
     "text": [
      "List1 after adding an element:  [1, 3, 5, 6, 12]\n",
      "\n",
      "List2 after adding an element to list1:  [1, 3, 5, 6]\n"
     ]
    }
   ],
   "source": [
    "list1 = [1,3,5,6]\n",
    "list2 = list1\n",
    "list1 = list1 + [12]\n",
    "print(\"List1 after adding an element: \", list1)\n",
    "print()\n",
    "print(\"List2 after adding an element to list1: \", list2)"
   ]
  },
  {
   "cell_type": "markdown",
   "metadata": {},
   "source": [
    "* concatenation produces a new list"
   ]
  },
  {
   "cell_type": "markdown",
   "metadata": {},
   "source": [
    "# List functions\n",
    "\n",
    "* list1.append(v) - extend list1 by a single value v\n",
    "\n",
    "* list1.extend(list2) - extend list1 by a list of values\n",
    "\n",
    "    * In place equivalent of list1 = list1 + list2\n",
    "    \n",
    "* list1.remove(x) - removes first occurence of x\n",
    "\n",
    "    * Error if no copy of x exists in list1"
   ]
  },
  {
   "cell_type": "code",
   "execution_count": 17,
   "metadata": {},
   "outputs": [
    {
     "name": "stdout",
     "output_type": "stream",
     "text": [
      "List1 before appending:  [0, 1, 2, 3, 4, 5, 6, 7, 8, 9]\n",
      "\n",
      "List1 after appending:  [0, 1, 2, 3, 4, 5, 6, 7, 8, 9, 20]\n",
      "\n",
      "List1 after extend:  [0, 1, 2, 3, 4, 5, 6, 7, 8, 9, 20, 11, 12, 13, 14]\n",
      "\n",
      "List1 after removing element 20:  [0, 1, 2, 3, 4, 5, 6, 7, 8, 9, 11, 12, 13, 14]\n"
     ]
    }
   ],
   "source": [
    "list1 = list(range(10))\n",
    "list2 = list(range(11,15))\n",
    "print(\"List1 before appending: \", list1)\n",
    "print()\n",
    "list1.append(20)\n",
    "print(\"List1 after appending: \", list1)\n",
    "list1.extend(list2)\n",
    "print()\n",
    "print(\"List1 after extend: \", list1)\n",
    "print()\n",
    "list1.remove(20)\n",
    "print(\"List1 after removing element 20: \", list1)"
   ]
  },
  {
   "cell_type": "markdown",
   "metadata": {},
   "source": [
    "# A note on syntax\n",
    "\n",
    "* list1.append(x) rather than append(list1,x)\n",
    "\n",
    "    * list1 is an object\n",
    "    \n",
    "    * append() is a function to update the object\n",
    "    \n",
    "    * x is an argument to the function\n",
    "    "
   ]
  },
  {
   "cell_type": "markdown",
   "metadata": {},
   "source": [
    "# Further list manipulation\n",
    "\n",
    "* Can also assign to a slice in place"
   ]
  },
  {
   "cell_type": "code",
   "execution_count": 19,
   "metadata": {},
   "outputs": [
    {
     "name": "stdout",
     "output_type": "stream",
     "text": [
      "[7, 8, 3, 4]\n",
      "\n",
      "[7, 8, 3, 4]\n"
     ]
    }
   ],
   "source": [
    "list1 = [1,2,3,4]\n",
    "list2 = list1\n",
    "list1[:2] = [7,8]\n",
    "print(list1)\n",
    "print()\n",
    "print(list2)"
   ]
  },
  {
   "cell_type": "markdown",
   "metadata": {},
   "source": [
    "* list1 and list2 are both referring to the same object\n",
    "\n",
    "* Can expand/shrink slices, but be sure you know what you are doing!"
   ]
  },
  {
   "cell_type": "code",
   "execution_count": 23,
   "metadata": {},
   "outputs": [
    {
     "name": "stdout",
     "output_type": "stream",
     "text": [
      "[7, 8, 9, 10, 11]\n",
      "\n",
      "[7, 8, 9, 10, 11]\n"
     ]
    }
   ],
   "source": [
    "list1[2:] = [9,10,11]\n",
    "print(list1)\n",
    "print()\n",
    "print(list2)"
   ]
  },
  {
   "cell_type": "markdown",
   "metadata": {},
   "source": [
    "# List membership\n",
    "\n",
    "* x in l returns True if value x is found in list 1"
   ]
  },
  {
   "cell_type": "code",
   "execution_count": 27,
   "metadata": {},
   "outputs": [
    {
     "data": {
      "text/plain": [
       "[0, 1, 2, 3, 4, 0, 1, 2, 3, 4]"
      ]
     },
     "execution_count": 27,
     "metadata": {},
     "output_type": "execute_result"
    }
   ],
   "source": [
    "l = list(range(5)) + list(range(5))\n",
    "l"
   ]
  },
  {
   "cell_type": "code",
   "execution_count": 28,
   "metadata": {},
   "outputs": [
    {
     "data": {
      "text/plain": [
       "[0, 1, 2, 4, 0, 1, 2, 3, 4]"
      ]
     },
     "execution_count": 28,
     "metadata": {},
     "output_type": "execute_result"
    }
   ],
   "source": [
    "# safely remove x from l\n",
    "x = 3\n",
    "if x in l:\n",
    "    l.remove(x)\n",
    "l"
   ]
  },
  {
   "cell_type": "code",
   "execution_count": 29,
   "metadata": {},
   "outputs": [
    {
     "name": "stdout",
     "output_type": "stream",
     "text": [
      "Before remove all the 2 elements from the list:  [0, 1, 2, 4, 0, 1, 2, 3, 4]\n",
      "after removing all the 2 elements from the list:  [0, 1, 4, 0, 1, 3, 4]\n"
     ]
    }
   ],
   "source": [
    "# remove all occurences of x in l\n",
    "x = 2\n",
    "print(\"Before remove all the 2 elements from the list: \", l)\n",
    "\n",
    "while x in l:\n",
    "    l.remove(x)\n",
    "print(\"after removing all the 2 elements from the list: \", l)"
   ]
  },
  {
   "cell_type": "markdown",
   "metadata": {},
   "source": [
    "# Other functions\n",
    "\n",
    "* list.reverse() - reverse list in place\n",
    "\n",
    "* list.sort() - sort list in ascending order\n",
    "\n",
    "* list.index() - find the leftmost position of x in list\n",
    "\n",
    "    * avoid error by checking if x in list\n",
    "    \n",
    "* list.rindex() - find the rightmost position of x in list\n",
    "\n",
    "* Many more ... see Python documentation"
   ]
  },
  {
   "cell_type": "markdown",
   "metadata": {},
   "source": [
    "# initialising names\n",
    "\n",
    "* A name cannot be used before it is assigned a value\n",
    "\n",
    "    y = x + 1 # error if x is unassigned\n",
    "    \n",
    "* May forget this for lists where update is implicit\n",
    "\n",
    "    list1.append(v)\n",
    "    \n",
    "* Python needs to know that list1 is a list"
   ]
  },
  {
   "cell_type": "code",
   "execution_count": null,
   "metadata": {},
   "outputs": [],
   "source": []
  }
 ],
 "metadata": {
  "kernelspec": {
   "display_name": "Python 3",
   "language": "python",
   "name": "python3"
  },
  "language_info": {
   "codemirror_mode": {
    "name": "ipython",
    "version": 3
   },
   "file_extension": ".py",
   "mimetype": "text/x-python",
   "name": "python",
   "nbconvert_exporter": "python",
   "pygments_lexer": "ipython3",
   "version": "3.7.6"
  }
 },
 "nbformat": 4,
 "nbformat_minor": 4
}
